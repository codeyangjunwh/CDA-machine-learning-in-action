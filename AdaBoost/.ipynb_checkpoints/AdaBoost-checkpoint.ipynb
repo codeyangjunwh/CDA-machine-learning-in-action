{
 "cells": [
  {
   "cell_type": "code",
   "execution_count": 1,
   "metadata": {},
   "outputs": [],
   "source": [
    "import pandas as pd\n",
    "import numpy as np"
   ]
  },
  {
   "cell_type": "code",
   "execution_count": 2,
   "metadata": {},
   "outputs": [],
   "source": [
    "#获得特征矩阵和标签矩阵\n",
    "def get_Mat(path):\n",
    "    dataSet = pd.read_table(path,header = None)\n",
    "    xMat = np.mat(dataSet.iloc[:,:-1].values)\n",
    "    yMat = np.mat(dataSet.iloc[:,-1].values).T\n",
    "    return xMat,yMat\n",
    "\n",
    "xMat,yMat = get_Mat('simpdata.txt')"
   ]
  },
  {
   "cell_type": "code",
   "execution_count": 3,
   "metadata": {},
   "outputs": [
    {
     "data": {
      "text/plain": [
       "matrix([[1. , 2.1],\n",
       "        [1.5, 1.6],\n",
       "        [1.3, 1. ],\n",
       "        [1. , 1. ],\n",
       "        [2. , 1. ]])"
      ]
     },
     "execution_count": 3,
     "metadata": {},
     "output_type": "execute_result"
    }
   ],
   "source": [
    "xMat"
   ]
  },
  {
   "cell_type": "code",
   "execution_count": 4,
   "metadata": {},
   "outputs": [
    {
     "data": {
      "text/plain": [
       "matrix([[ 1.],\n",
       "        [ 1.],\n",
       "        [-1.],\n",
       "        [-1.],\n",
       "        [ 1.]])"
      ]
     },
     "execution_count": 4,
     "metadata": {},
     "output_type": "execute_result"
    }
   ],
   "source": [
    "yMat"
   ]
  },
  {
   "cell_type": "code",
   "execution_count": 5,
   "metadata": {},
   "outputs": [],
   "source": [
    "import matplotlib.pyplot as plt\n",
    "plt.rcParams['font.sans-serif']=['simhei']\n",
    "%matplotlib inline"
   ]
  },
  {
   "cell_type": "code",
   "execution_count": 6,
   "metadata": {},
   "outputs": [
    {
     "data": {
      "image/png": "[encoded data removed]",
      "text/plain": [
       "<Figure size 432x288 with 1 Axes>"
      ]
     },
     "metadata": {
      "needs_background": "light"
     },
     "output_type": "display_data"
    }
   ],
   "source": [
    "#数据集可视化函数\n",
    "def showPlot(xMat,yMat):\n",
    "    x=np.array(xMat[:,0])\n",
    "    y=np.array(xMat[:,1])\n",
    "    label = np.array(yMat)\n",
    "    plt.scatter(x,y,c=label)\n",
    "    plt.title('单层决策树测试数据')\n",
    "    plt.show()\n",
    "\n",
    "showPlot(xMat,yMat)"
   ]
  },
  {
   "cell_type": "code",
   "execution_count": 7,
   "metadata": {},
   "outputs": [],
   "source": [
    "\"\"\"\n",
    "函数功能：单层决策树分类函数\n",
    "参数说明:\n",
    "    xMat: 特征矩阵\n",
    "    i: 第i列，也就是第几个特征\n",
    "    Q: 阈值\n",
    "    S: 标志\n",
    "返回:\n",
    "    re: 分类结果\n",
    "构建第二个函数寻找最佳单层决策树：\n",
    "测试函数并运行查看结果：\n",
    "\"\"\"\n",
    "\n",
    "def Classify0(xMat,i,Q,S):\n",
    "    re = np.ones((xMat.shape[0],1)) #初始化re为1\n",
    "    if S == 'lt':\n",
    "        re[xMat[:,i] <= Q] = -1 #如果小于阈值,则赋值为-1\n",
    "    else:\n",
    "        re[xMat[:,i] > Q] = -1 #如果大于阈值,则赋值为-1\n",
    "        \n",
    "    return re"
   ]
  },
  {
   "cell_type": "code",
   "execution_count": 8,
   "metadata": {},
   "outputs": [],
   "source": [
    "\"\"\"\n",
    "函数功能：找到数据集上最佳的单层决策树\n",
    "参数说明:\n",
    "xMat：特征矩阵\n",
    "yMat：标签矩阵\n",
    "D：样本权重\n",
    "返回:\n",
    "bestStump：最佳单层决策树信息\n",
    "minE：最小误差\n",
    "bestClas：最佳的分类结果\n",
    "\"\"\"\n",
    "def get_Stump(xMat,yMat,D):\n",
    "    m,n = xMat.shape                                #m为样本个数，n为特征数             \n",
    "    Steps = 10                                      #初始化一个步数\n",
    "    bestStump = {}                                  #用字典形式来储存树桩信息\n",
    "    bestClas = np.mat(np.zeros((m,1)))              #初始化分类结果为1\n",
    "    minE = np.inf                                   #最小误差初始化为正无穷大\n",
    "    for i in range(n):                              #遍历所有特征\n",
    "        Min = xMat[:,i].min()                       #找到特征中最小值\n",
    "        Max = xMat[:,i].max()                       #找到特征中最大值\n",
    "        stepSize = (Max - Min) / Steps              #计算步长\n",
    "        for j in range(-1, int(Steps)+1):                                     \n",
    "            for S in ['lt', 'gt']:                  #大于和小于的情况，均遍历。lt:less than，gt:greater than\n",
    "                Q = (Min + j * stepSize)            #计算阈值\n",
    "                re = Classify0(xMat, i, Q, S)       #计算分类结果\n",
    "                err = np.mat(np.ones((m,1)))        #初始化误差矩阵\n",
    "                err[re == yMat] = 0                 #分类正确的,赋值为0\n",
    "                eca = D.T * err                     #计算误差\n",
    "                #print(f'切分特征: {i}, 阈值:{np.round(Q,2)}, 标志:{S}, 权重误差:{np.round(eca,3)}')\n",
    "                if eca < minE:                      #找到误差最小的分类方式\n",
    "                    minE = eca\n",
    "                    bestClas = re.copy()\n",
    "                    bestStump['特征列'] = i\n",
    "                    bestStump['阈值'] = Q\n",
    "                    bestStump['标志'] = S\n",
    "    return bestStump,minE,bestClas"
   ]
  },
  {
   "cell_type": "code",
   "execution_count": 9,
   "metadata": {},
   "outputs": [
    {
     "data": {
      "text/plain": [
       "({'特征列': 0, '阈值': 2.0, '标志': 'gt'}, matrix([[0.4]]), array([[1.],\n",
       "        [1.],\n",
       "        [1.],\n",
       "        [1.],\n",
       "        [1.]]))"
      ]
     },
     "execution_count": 9,
     "metadata": {},
     "output_type": "execute_result"
    }
   ],
   "source": [
    "m = xMat.shape[0]\n",
    "D = np.mat(np.ones((m, 1)) / m) #初始化样本权重（每个样本权重相等）\n",
    "# print(D)\n",
    "bestStump,minE,bestClas= get_Stump(xMat,yMat,D)\n",
    "bestStump, minE, bestClas"
   ]
  },
  {
   "cell_type": "code",
   "execution_count": null,
   "metadata": {},
   "outputs": [],
   "source": []
  },
  {
   "cell_type": "code",
   "execution_count": null,
   "metadata": {},
   "outputs": [],
   "source": []
  }
 ],
 "metadata": {
  "kernelspec": {
   "display_name": "Python 3",
   "language": "python",
   "name": "python3"
  },
  "language_info": {
   "codemirror_mode": {
    "name": "ipython",
    "version": 3
   },
   "file_extension": ".py",
   "mimetype": "text/x-python",
   "name": "python",
   "nbconvert_exporter": "python",
   "pygments_lexer": "ipython3",
   "version": "3.7.4"
  }
 },
 "nbformat": 4,
 "nbformat_minor": 2
}
