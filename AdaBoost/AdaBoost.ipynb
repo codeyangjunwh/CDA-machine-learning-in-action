{
 "cells": [
  {
   "cell_type": "code",
   "execution_count": 1,
   "metadata": {},
   "outputs": [],
   "source": [
    "import pandas as pd\n",
    "import numpy as np"
   ]
  },
  {
   "cell_type": "code",
   "execution_count": 2,
   "metadata": {},
   "outputs": [],
   "source": [
    "#获得特征矩阵和标签矩阵\n",
    "def get_Mat(path):\n",
    "    dataSet = pd.read_table(path,header = None)\n",
    "    xMat = np.mat(dataSet.iloc[:,:-1].values)\n",
    "    yMat = np.mat(dataSet.iloc[:,-1].values).T\n",
    "    return xMat,yMat\n",
    "\n",
    "xMat,yMat = get_Mat('simpdata.txt')"
   ]
  },
  {
   "cell_type": "code",
   "execution_count": 3,
   "metadata": {},
   "outputs": [
    {
     "data": {
      "text/plain": [
       "matrix([[1. , 2.1],\n",
       "        [1.5, 1.6],\n",
       "        [1.3, 1. ],\n",
       "        [1. , 1. ],\n",
       "        [2. , 1. ]])"
      ]
     },
     "execution_count": 3,
     "metadata": {},
     "output_type": "execute_result"
    }
   ],
   "source": [
    "xMat"
   ]
  },
  {
   "cell_type": "code",
   "execution_count": 4,
   "metadata": {},
   "outputs": [
    {
     "data": {
      "text/plain": [
       "matrix([[ 1.],\n",
       "        [ 1.],\n",
       "        [-1.],\n",
       "        [-1.],\n",
       "        [ 1.]])"
      ]
     },
     "execution_count": 4,
     "metadata": {},
     "output_type": "execute_result"
    }
   ],
   "source": [
    "yMat"
   ]
  },
  {
   "cell_type": "code",
   "execution_count": 5,
   "metadata": {},
   "outputs": [],
   "source": [
    "import matplotlib.pyplot as plt\n",
    "plt.rcParams['font.sans-serif']=['simhei']\n",
    "%matplotlib inline"
   ]
  },
  {
   "cell_type": "code",
   "execution_count": 6,
   "metadata": {},
   "outputs": [
    {
     "data": {
      "image/png": "[encoded data removed]",
      "text/plain": [
       "<Figure size 432x288 with 1 Axes>"
      ]
     },
     "metadata": {
      "needs_background": "light"
     },
     "output_type": "display_data"
    }
   ],
   "source": [
    "#数据集可视化函数\n",
    "def showPlot(xMat,yMat):\n",
    "    x=np.array(xMat[:,0])\n",
    "    y=np.array(xMat[:,1])\n",
    "    label = np.array(yMat)\n",
    "    plt.scatter(x,y,c=label)\n",
    "    plt.title('单层决策树测试数据')\n",
    "    plt.show()\n",
    "\n",
    "showPlot(xMat,yMat)"
   ]
  },
  {
   "cell_type": "code",
   "execution_count": 7,
   "metadata": {},
   "outputs": [],
   "source": [
    "\"\"\"\n",
    "函数功能：单层决策树分类函数\n",
    "参数说明:\n",
    "    xMat: 特征矩阵\n",
    "    i: 第i列，也就是第几个特征\n",
    "    Q: 阈值\n",
    "    S: 标志\n",
    "返回:\n",
    "    re: 分类结果\n",
    "构建第二个函数寻找最佳单层决策树：\n",
    "测试函数并运行查看结果：\n",
    "\"\"\"\n",
    "\n",
    "def Classify0(xMat,i,Q,S):\n",
    "    re = np.ones((xMat.shape[0],1)) #初始化re为1\n",
    "    if S == 'lt':\n",
    "        re[xMat[:,i] <= Q] = -1 #如果小于阈值,则赋值为-1\n",
    "    else:\n",
    "        re[xMat[:,i] > Q] = -1 #如果大于阈值,则赋值为-1\n",
    "        \n",
    "    return re"
   ]
  },
  {
   "cell_type": "code",
   "execution_count": 8,
   "metadata": {},
   "outputs": [],
   "source": [
    "\"\"\"\n",
    "函数功能：找到数据集上最佳的单层决策树\n",
    "参数说明:\n",
    "xMat：特征矩阵\n",
    "yMat：标签矩阵\n",
    "D：样本权重\n",
    "返回:\n",
    "bestStump：最佳单层决策树信息\n",
    "minE：最小误差\n",
    "bestClas：最佳的分类结果\n",
    "\"\"\"\n",
    "def get_Stump(xMat,yMat,D):\n",
    "    m,n = xMat.shape                                #m为样本个数，n为特征数             \n",
    "    Steps = 10                                      #初始化一个步数\n",
    "    bestStump = {}                                  #用字典形式来储存树桩信息\n",
    "    bestClas = np.mat(np.zeros((m,1)))              #初始化分类结果为1\n",
    "    minE = np.inf                                   #最小误差初始化为正无穷大\n",
    "    \n",
    "    for i in range(n):                              #遍历所有特征\n",
    "        Min = xMat[:,i].min()                       #找到特征中最小值\n",
    "        Max = xMat[:,i].max()                       #找到特征中最大值\n",
    "        stepSize = (Max - Min) / Steps              #计算步长\n",
    "        for j in range(-1, int(Steps)+1):                                     \n",
    "            for S in ['lt', 'gt']:                  #大于和小于的情况，均遍历。lt:less than，gt:greater than\n",
    "                Q = (Min + j * stepSize)            #计算阈值\n",
    "                re = Classify0(xMat, i, Q, S)       #计算分类结果\n",
    "                err = np.mat(np.ones((m,1)))        #初始化误差矩阵\n",
    "                err[re == yMat] = 0                 #分类正确的,赋值为0\n",
    "                eca = D.T * err                     #计算误差\n",
    "                #print(f'切分特征: {i}, 阈值:{np.round(Q,2)}, 标志:{S}, 权重误差:{np.round(eca,3)}')\n",
    "                if eca < minE:                      #找到误差最小的分类方式\n",
    "                    minE = eca\n",
    "                    bestClas = re.copy()\n",
    "                    bestStump['特征列'] = i\n",
    "                    bestStump['阈值'] = Q\n",
    "                    bestStump['标志'] = S\n",
    "                    \n",
    "    return bestStump,minE,bestClas"
   ]
  },
  {
   "cell_type": "code",
   "execution_count": 9,
   "metadata": {},
   "outputs": [
    {
     "data": {
      "text/plain": [
       "({'特征列': 0, '阈值': 1.3, '标志': 'lt'}, matrix([[0.2]]), array([[-1.],\n",
       "        [ 1.],\n",
       "        [-1.],\n",
       "        [-1.],\n",
       "        [ 1.]]))"
      ]
     },
     "execution_count": 9,
     "metadata": {},
     "output_type": "execute_result"
    }
   ],
   "source": [
    "m = xMat.shape[0]\n",
    "D = np.mat(np.ones((m, 1)) / m) #初始化样本权重（每个样本权重相等）\n",
    "# print(D)\n",
    "bestStump,minE,bestClas= get_Stump(xMat,yMat,D)\n",
    "bestStump, minE, bestClas"
   ]
  },
  {
   "cell_type": "code",
   "execution_count": 15,
   "metadata": {},
   "outputs": [],
   "source": [
    "\"\"\"\n",
    "函数功能：基于单层决策树的AdaBoost训练过程\n",
    "参数说明：\n",
    "    xMat：特征矩阵\n",
    "    yMat：标签矩阵\n",
    "    maxC：最大迭代次数\n",
    "返回：\n",
    "    weakClass：弱分类器信息\n",
    "    aggClass：类别估计值（其实就是更改了标签的估计值）\n",
    "\"\"\"\n",
    "def Ada_train(xMat, yMat, maxC = 40):\n",
    "    weakClass = []\n",
    "    m = xMat.shape[0]\n",
    "    D = np.mat(np.ones((m, 1)) / m) #初始化权重\n",
    "    aggClass = np.mat(np.zeros((m,1)))\n",
    "    \n",
    "    for i in range(maxC):\n",
    "        Stump, error, bestClas = get_Stump(xMat, yMat,D) #构建单层决策树\n",
    "        #print(f\"D:{D.T}\")\n",
    "        alpha=float(0.5 * np.log((1 - error) / max(error, 1e-16))) #计算弱分类器权重alpha\n",
    "        Stump['alpha'] = np.round(alpha,2) #存储弱学习算法权重,保留两位小数\n",
    "        weakClass.append(Stump) #存储单层决策树\n",
    "        #print(\"bestClas: \", bestClas.T)\n",
    "        \n",
    "        expon = np.multiply(-1 * alpha *yMat, bestClas) #计算e的指数项\n",
    "        D = np.multiply(D, np.exp(expon))\n",
    "        D = D / D.sum() #根据样本权重公式，更新样本权重\n",
    "        \n",
    "        aggClass += alpha * bestClas #更新累计类别估计值\n",
    "        \n",
    "        print(f\"aggClass: {aggClass.T}\" )\n",
    "        aggErr = np.multiply(np.sign(aggClass) != yMat, np.ones((m,1)))#计算误差\n",
    "        errRate = aggErr.sum() / m\n",
    "    \n",
    "        print(f\"分类错误率: {errRate}\")\n",
    "        if errRate == 0: \n",
    "            break #误差为0，退出循环\n",
    "        \n",
    "    return weakClass, aggClass"
   ]
  },
  {
   "cell_type": "code",
   "execution_count": 16,
   "metadata": {},
   "outputs": [
    {
     "name": "stdout",
     "output_type": "stream",
     "text": [
      "aggClass: [[-0.69314718  0.69314718 -0.69314718 -0.69314718  0.69314718]]\n",
      "分类错误率: 0.2\n",
      "aggClass: [[ 0.27980789  1.66610226 -1.66610226 -1.66610226 -0.27980789]]\n",
      "分类错误率: 0.2\n",
      "aggClass: [[ 1.17568763  2.56198199 -0.77022252 -0.77022252  0.61607184]]\n",
      "分类错误率: 0.0\n"
     ]
    },
    {
     "data": {
      "text/plain": [
       "([{'特征列': 0, '阈值': 1.3, '标志': 'lt', 'alpha': 0.69},\n",
       "  {'特征列': 1, '阈值': 1.0, '标志': 'lt', 'alpha': 0.97},\n",
       "  {'特征列': 0, '阈值': 0.9, '标志': 'lt', 'alpha': 0.9}],\n",
       " matrix([[ 1.17568763],\n",
       "         [ 2.56198199],\n",
       "         [-0.77022252],\n",
       "         [-0.77022252],\n",
       "         [ 0.61607184]]))"
      ]
     },
     "execution_count": 16,
     "metadata": {},
     "output_type": "execute_result"
    }
   ],
   "source": [
    "weakClass, aggClass =Ada_train(xMat, yMat, maxC = 40)\n",
    "weakClass, aggClass"
   ]
  },
  {
   "cell_type": "code",
   "execution_count": 17,
   "metadata": {},
   "outputs": [],
   "source": [
    "\"\"\"\n",
    "函数功能：AdaBoost分类函数\n",
    "参数说明：\n",
    "data: 待分类样例\n",
    "classifys:训练好的分类器\n",
    "返回:\n",
    "分类结果\n",
    "\"\"\"\n",
    "def AdaClassify(data,weakClass):\n",
    "    dataMat = np.mat(data)\n",
    "    m = dataMat.shape[0]\n",
    "    aggClass = np.mat(np.zeros((m,1)))\n",
    "    print(f'len(weakClass):{len(weakClass)}')\n",
    "    for i in range(len(weakClass)): #遍历所有分类器，进行分类\n",
    "        classEst = Classify0(dataMat,\n",
    "        weakClass[i]['特征列'],\n",
    "        weakClass[i]['阈值'],\n",
    "        weakClass[i]['标志'])\n",
    "        \n",
    "        aggClass += weakClass[i]['alpha'] * classEst\n",
    "        #print(aggClass)\n",
    "        \n",
    "    return np.sign(aggClass)"
   ]
  },
  {
   "cell_type": "code",
   "execution_count": 18,
   "metadata": {},
   "outputs": [
    {
     "name": "stdout",
     "output_type": "stream",
     "text": [
      "len(weakClass):3\n"
     ]
    },
    {
     "data": {
      "text/plain": [
       "matrix([[ 1.],\n",
       "        [ 1.],\n",
       "        [-1.],\n",
       "        [-1.],\n",
       "        [ 1.]])"
      ]
     },
     "execution_count": 18,
     "metadata": {},
     "output_type": "execute_result"
    }
   ],
   "source": [
    "AdaClassify(xMat,weakClass)"
   ]
  },
  {
   "cell_type": "code",
   "execution_count": 27,
   "metadata": {},
   "outputs": [
    {
     "name": "stdout",
     "output_type": "stream",
     "text": [
      "[0.         0.01010101 0.02020202 0.03030303 0.04040404 0.05050505\n",
      " 0.06060606 0.07070707 0.08080808 0.09090909 0.1010101  0.11111111\n",
      " 0.12121212 0.13131313 0.14141414 0.15151515 0.16161616 0.17171717\n",
      " 0.18181818 0.19191919 0.2020202  0.21212121 0.22222222 0.23232323\n",
      " 0.24242424 0.25252525 0.26262626 0.27272727 0.28282828 0.29292929\n",
      " 0.3030303  0.31313131 0.32323232 0.33333333 0.34343434 0.35353535\n",
      " 0.36363636 0.37373737 0.38383838 0.39393939 0.4040404  0.41414141\n",
      " 0.42424242 0.43434343 0.44444444 0.45454545 0.46464646 0.47474747\n",
      " 0.48484848 0.49494949 0.50505051 0.51515152 0.52525253 0.53535354\n",
      " 0.54545455 0.55555556 0.56565657 0.57575758 0.58585859 0.5959596\n",
      " 0.60606061 0.61616162 0.62626263 0.63636364 0.64646465 0.65656566\n",
      " 0.66666667 0.67676768 0.68686869 0.6969697  0.70707071 0.71717172\n",
      " 0.72727273 0.73737374 0.74747475 0.75757576 0.76767677 0.77777778\n",
      " 0.78787879 0.7979798  0.80808081 0.81818182 0.82828283 0.83838384\n",
      " 0.84848485 0.85858586 0.86868687 0.87878788 0.88888889 0.8989899\n",
      " 0.90909091 0.91919192 0.92929293 0.93939394 0.94949495 0.95959596\n",
      " 0.96969697 0.97979798 0.98989899 1.        ]\n",
      "[        inf  2.29248374  1.9407819   1.73286795  1.58379127  1.46692843\n",
      "  1.37042001  1.28793921  1.21570898  1.15129255  1.09302564  1.03972077\n",
      "  0.99050073  0.94469897  0.90179696  0.8613833   0.82312594  0.78675295\n",
      "  0.7520387   0.71879383  0.68685779  0.65609319  0.62638148  0.59761956\n",
      "  0.56971714  0.54259463  0.51618145  0.49041463  0.46523768  0.44059971\n",
      "  0.41645456  0.39276025  0.36947836  0.34657359  0.32401337  0.30176751\n",
      "  0.27980789  0.25810824  0.23664385  0.21539146  0.19432899  0.17343547\n",
      "  0.15269082  0.13207579  0.11157178  0.09116078  0.07082526  0.05054806\n",
      "  0.03031231  0.01010135 -0.01010135 -0.03031231 -0.05054806 -0.07082526\n",
      " -0.09116078 -0.11157178 -0.13207579 -0.15269082 -0.17343547 -0.19432899\n",
      " -0.21539146 -0.23664385 -0.25810824 -0.27980789 -0.30176751 -0.32401337\n",
      " -0.34657359 -0.36947836 -0.39276025 -0.41645456 -0.44059971 -0.46523768\n",
      " -0.49041463 -0.51618145 -0.54259463 -0.56971714 -0.59761956 -0.62638148\n",
      " -0.65609319 -0.68685779 -0.71879383 -0.7520387  -0.78675295 -0.82312594\n",
      " -0.8613833  -0.90179696 -0.94469897 -0.99050073 -1.03972077 -1.09302564\n",
      " -1.15129255 -1.21570898 -1.28793921 -1.37042001 -1.46692843 -1.58379127\n",
      " -1.73286795 -1.9407819  -2.29248374        -inf]\n"
     ]
    },
    {
     "name": "stderr",
     "output_type": "stream",
     "text": [
      "C:\\ProgramData\\Anaconda3\\lib\\site-packages\\ipykernel_launcher.py:3: RuntimeWarning: divide by zero encountered in true_divide\n",
      "  This is separate from the ipykernel package so we can avoid doing imports until\n",
      "C:\\ProgramData\\Anaconda3\\lib\\site-packages\\ipykernel_launcher.py:3: RuntimeWarning: divide by zero encountered in log\n",
      "  This is separate from the ipykernel package so we can avoid doing imports until\n"
     ]
    },
    {
     "data": {
      "image/png": "[encoded data removed]",
      "text/plain": [
       "<Figure size 432x288 with 1 Axes>"
      ]
     },
     "metadata": {
      "needs_background": "light"
     },
     "output_type": "display_data"
    }
   ],
   "source": [
    "x = np.linspace(0, 1, 100)\n",
    "print(x)\n",
    "y = 0.5 * np.log((1-x) / x)\n",
    "print(y)\n",
    "plt.plot(x, y, c='black')\n",
    "plt.show()"
   ]
  },
  {
   "cell_type": "code",
   "execution_count": null,
   "metadata": {},
   "outputs": [],
   "source": []
  }
 ],
 "metadata": {
  "kernelspec": {
   "display_name": "Python 3",
   "language": "python",
   "name": "python3"
  },
  "language_info": {
   "codemirror_mode": {
    "name": "ipython",
    "version": 3
   },
   "file_extension": ".py",
   "mimetype": "text/x-python",
   "name": "python",
   "nbconvert_exporter": "python",
   "pygments_lexer": "ipython3",
   "version": "3.7.4"
  }
 },
 "nbformat": 4,
 "nbformat_minor": 2
}
